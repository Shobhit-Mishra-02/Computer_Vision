{
 "cells": [
  {
   "cell_type": "code",
   "execution_count": 8,
   "metadata": {},
   "outputs": [
    {
     "name": "stdout",
     "output_type": "stream",
     "text": [
      "(669, 973, 3)\n"
     ]
    },
    {
     "data": {
      "text/plain": [
       "-1"
      ]
     },
     "execution_count": 8,
     "metadata": {},
     "output_type": "execute_result"
    }
   ],
   "source": [
    "# This program will read an image and process it for size reduction, color change etc.\n",
    "# This is written for \"COMPUTER-VISION\" learning.\n",
    "\n",
    "# Load numpy and OpenCV Libraries\n",
    "import numpy as np\n",
    "import cv2\n",
    "\n",
    "#Read an Image from the same directory\n",
    "ak_color=cv2.imread('3D.jpg')\n",
    "\n",
    "# Show the Image on Screen\n",
    "cv2.imshow(\"3D Image\",ak_color)\n",
    "# Wait till close \n",
    "cv2.waitKey(0)\n",
    "\n",
    "# SHow the SIZE of the Image\n",
    "AK= np.array(ak_color)\n",
    "print (ak_color.shape)\n",
    "\n",
    "# Image Enhancement/ Mixing\n",
    "Line= AK[460,330]\n",
    "NEWAK=AK-Line\n",
    "cv2.imshow (\"Line Printed\", NEWAK)\n",
    "cv2.waitKey(0)\n",
    "\n",
    "# Change the COLOR of the Resized Image and show the same\n",
    "ak_bandw=cv2.cvtColor(ak_resized, cv2.COLOR_BGR2HSV)\n",
    "cv2.imshow('Black and White Image', ak_bandw)\n",
    "cv2.waitKey(0)\n",
    "\n",
    "\n"
   ]
  },
  {
   "cell_type": "code",
   "execution_count": 15,
   "metadata": {},
   "outputs": [],
   "source": []
  },
  {
   "cell_type": "code",
   "execution_count": null,
   "metadata": {},
   "outputs": [],
   "source": []
  },
  {
   "cell_type": "code",
   "execution_count": null,
   "metadata": {},
   "outputs": [],
   "source": []
  },
  {
   "cell_type": "code",
   "execution_count": null,
   "metadata": {},
   "outputs": [],
   "source": []
  }
 ],
 "metadata": {
  "kernelspec": {
   "display_name": "Python 3",
   "language": "python",
   "name": "python3"
  },
  "language_info": {
   "codemirror_mode": {
    "name": "ipython",
    "version": 3
   },
   "file_extension": ".py",
   "mimetype": "text/x-python",
   "name": "python",
   "nbconvert_exporter": "python",
   "pygments_lexer": "ipython3",
   "version": "3.8.5"
  }
 },
 "nbformat": 4,
 "nbformat_minor": 4
}
